{
 "cells": [
  {
   "cell_type": "code",
   "execution_count": null,
   "metadata": {},
   "outputs": [],
   "source": [
    "import Annotation_utils as annotation\n",
    "import ipywidgets as ipyw\n",
    "from ipywidgets import widgets\n",
    "%matplotlib notebook"
   ]
  },
  {
   "cell_type": "markdown",
   "metadata": {},
   "source": [
    "# 3D annotation tool"
   ]
  },
  {
   "cell_type": "markdown",
   "metadata": {},
   "source": [
    "## 1. Instructions:  \n",
    "Steps:\n",
    "1. Skim through all slices through z bar and confirm z_lower, z_upper\n",
    "2. Click the \"Newbox\" buttom to enable interactive box drawing on xy-plane, then unclick it\n",
    "3. Draw bounding box use mouse and change z to adjust the size of the box\n",
    "4. Enter label for the object\n",
    "5. Click \"FinishCurrentBox\" to save the current annotation result, then unclick it\n",
    "6. Repeat step 1-5 for each potential object contained in the file\n",
    "7. When finished all annotation save the results"
   ]
  },
  {
   "cell_type": "markdown",
   "metadata": {},
   "source": [
    "## 2. Choose file"
   ]
  },
  {
   "cell_type": "code",
   "execution_count": null,
   "metadata": {},
   "outputs": [],
   "source": [
    "File_Name = widgets.Text(value=\"Please choose the file \", placeholder=\"Type something\", description=\"\", disabled=False)\n",
    "File_Name #display the enter "
   ]
  },
  {
   "cell_type": "markdown",
   "metadata": {},
   "source": [
    "## 3. Annotate"
   ]
  },
  {
   "cell_type": "code",
   "execution_count": null,
   "metadata": {},
   "outputs": [],
   "source": [
    "path = File_Name.value\n",
    "image_slice_viewer3D = annotation.ImageSliceViewer3D(path)"
   ]
  },
  {
   "cell_type": "markdown",
   "metadata": {},
   "source": [
    "## 4. Save results"
   ]
  },
  {
   "cell_type": "code",
   "execution_count": null,
   "metadata": {},
   "outputs": [],
   "source": [
    "annotation.SaveResult(image_slice_viewer3D, path)"
   ]
  }
 ],
 "metadata": {
  "kernelspec": {
   "display_name": "Python 3",
   "language": "python",
   "name": "python3"
  },
  "language_info": {
   "codemirror_mode": {
    "name": "ipython",
    "version": 3
   },
   "file_extension": ".py",
   "mimetype": "text/x-python",
   "name": "python",
   "nbconvert_exporter": "python",
   "pygments_lexer": "ipython3",
   "version": "3.7.1"
  }
 },
 "nbformat": 4,
 "nbformat_minor": 4
}
