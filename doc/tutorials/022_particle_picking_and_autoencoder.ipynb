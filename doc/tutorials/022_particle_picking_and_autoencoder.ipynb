{
 "cells": [
  {
   "cell_type": "markdown",
   "metadata": {},
   "source": [
    "# 1.1 Particle picking"
   ]
  },
  {
   "cell_type": "code",
   "execution_count": null,
   "metadata": {},
   "outputs": [],
   "source": [
    "from aitom.bin.picking import picking\n",
    "from particle_picking_and_autoencoder_util import mkdir,ParticlePicking,ImageSliceViewer3D\n",
    "\n",
    "# file path\n",
    "path = '/ldap_shared/home/v_zhenxi_zhu/data/aitom_demo_single_particle_tomogram.mrc'\n",
    "output_dir = './tmp/picking'\n",
    "mkdir(output_dir)\n",
    "pick = ParticlePicking(path,output_dir)\n",
    "\n",
    "# select sigma1 automatically \n",
    "sigma1 = pick.select_sigma()\n",
    "\n",
    "# or select it manually\n",
    "if True:\n",
    "    sigma1 = 5\n",
    "\n",
    "# particle picking\n",
    "result = picking(path, s1=sigma1, s2=sigma1*1.1, t=3, find_maxima=False, partition_op=None, multiprocessing_process_num=10, pick_num=1000)\n",
    "print(\"DoG done, %d particles picked\" % len(result))\n",
    "\n",
    "# Save subvolumes of peaks for autoencoder input\n",
    "pick.dump_subvol(result)"
   ]
  },
  {
   "cell_type": "markdown",
   "metadata": {},
   "source": [
    "# 1.2 Visualization of particle picking result"
   ]
  },
  {
   "cell_type": "code",
   "execution_count": null,
   "metadata": {},
   "outputs": [],
   "source": [
    "%%html\n",
    "<style>\n",
    "div.ui-dialog-titlebar {display: none;}\n",
    "</style>\n",
    "from IPython.core.display import display, HTML\n",
    "display(HTML(\"<style>.container { width:100% !important; }</style>\"))\n",
    "# Set display style"
   ]
  },
  {
   "cell_type": "code",
   "execution_count": null,
   "metadata": {},
   "outputs": [],
   "source": [
    "# Visualization of the tomogram and subtomograms\n",
    "view_tomogram = True\n",
    "if view_tomogram:\n",
    "    # Visualization of the tomogram\n",
    "    %matplotlib notebook\n",
    "    ImageSliceViewer3D(path, output_dir)\n",
    "    # pick.view_tomo()\n",
    "else:\n",
    "    # Visualization of the subtomograms\n",
    "    subvol_num = 113\n",
    "    pick.view_subtom(subvol_num)"
   ]
  },
  {
   "cell_type": "markdown",
   "metadata": {},
   "source": [
    "# 1.3 Manual selection"
   ]
  },
  {
   "cell_type": "code",
   "execution_count": null,
   "metadata": {},
   "outputs": [],
   "source": [
    "# manual remove particles\n",
    "remove_particles = [0,4,9,11,18,24,26,30,34,35,38,53,66,78,96,99,111,112,118,123,124]\n",
    "pick_num = 100\n",
    "pick.select(remove_particles,pick_num)"
   ]
  },
  {
   "cell_type": "markdown",
   "metadata": {},
   "source": [
    "# 2.1 Autoencoder (single particle)"
   ]
  },
  {
   "cell_type": "code",
   "execution_count": null,
   "metadata": {},
   "outputs": [],
   "source": [
    "from particle_picking_and_autoencoder_util import mkdir,view_clusters\n",
    "import aitom.classify.deep.unsupervised.autoencoder.autoencoder as AE\n",
    "import aitom.io.file as AIF\n",
    "\n",
    "subvols_loc = './tmp/picking/selected_demo_single_particle_subvolumes.pickle'\n",
    "output_dir = './tmp/autoencoder_single_particle'\n",
    "mkdir(output_dir)\n",
    "\n",
    "# pickle data file of CECT small subvolumes\n",
    "d = AIF.pickle_load(subvols_loc)\n",
    "AE.encoder_simple_conv_test(d=d, pose=None, img_org_file=False, out_dir=output_dir, clus_num=1)\n",
    "AE.kmeans_centers_plot(AE.op_join(output_dir, 'clus-center'))"
   ]
  },
  {
   "cell_type": "markdown",
   "metadata": {},
   "source": [
    "## Visualization of cluster centers"
   ]
  },
  {
   "cell_type": "code",
   "execution_count": null,
   "metadata": {},
   "outputs": [],
   "source": [
    "view_clusters(output_dir)"
   ]
  },
  {
   "cell_type": "markdown",
   "metadata": {},
   "source": [
    "# 2.2 Autoencoder (multi particles)"
   ]
  },
  {
   "cell_type": "code",
   "execution_count": null,
   "metadata": {},
   "outputs": [],
   "source": [
    "# generate subvolumes from pickle file\n",
    "from particle_picking_and_autoencoder_util import combine_subtom\n",
    "out_dir = './tmp/picking/'\n",
    "# demo subtomograms, can download from: https://cmu.box.com/s/9hn3qqtqmivauus3kgtasg5uzlj53wxp\n",
    "pickle_path = '/ldap_shared/home/v_zhenxi_zhu/classification_and_averaging/aitom_demo_subtomograms.pickle' \n",
    "# mix particle picking results and demo subtomograms to test the classification task\n",
    "combine_subtom(out_dir,pickle_path)"
   ]
  },
  {
   "cell_type": "code",
   "execution_count": null,
   "metadata": {},
   "outputs": [],
   "source": [
    "from particle_picking_and_autoencoder_util import mkdir,view_clusters\n",
    "import aitom.classify.deep.unsupervised.autoencoder.autoencoder as AE\n",
    "import aitom.io.file as AIF\n",
    "\n",
    "subvols_loc = './tmp/picking/subvolumes.pickle'\n",
    "output_dir = './tmp/autoencoder_multi_particles'\n",
    "mkdir(output_dir)\n",
    "\n",
    "# pickle data file of CECT small subvolumes\n",
    "d = AIF.pickle_load(subvols_loc) # pickle data file of CECT small subvolumes\n",
    "AE.encoder_simple_conv_test(d=d, pose=None, img_org_file=False, out_dir=output_dir, clus_num=3)\n",
    "AE.kmeans_centers_plot(AE.op_join(output_dir, 'clus-center'))"
   ]
  },
  {
   "cell_type": "markdown",
   "metadata": {},
   "source": [
    "## Visualization of cluster centers"
   ]
  },
  {
   "cell_type": "code",
   "execution_count": null,
   "metadata": {},
   "outputs": [],
   "source": [
    "view_clusters(output_dir)"
   ]
  }
 ],
 "metadata": {
  "kernelspec": {
   "display_name": "autoencoder",
   "language": "python",
   "name": "autoencoder"
  },
  "language_info": {
   "codemirror_mode": {
    "name": "ipython",
    "version": 3
   },
   "file_extension": ".py",
   "mimetype": "text/x-python",
   "name": "python",
   "nbconvert_exporter": "python",
   "pygments_lexer": "ipython3",
   "version": "3.5.6"
  }
 },
 "nbformat": 4,
 "nbformat_minor": 2
}