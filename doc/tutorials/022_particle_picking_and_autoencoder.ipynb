{
 "cells": [
  {
   "cell_type": "markdown",
   "metadata": {},
   "source": [
    "# AITom Tutorial"
   ]
  },
  {
   "cell_type": "markdown",
   "metadata": {},
   "source": [
    "# 1.1 Particle picking"
   ]
  },
  {
   "cell_type": "code",
   "execution_count": null,
   "metadata": {},
   "outputs": [],
   "source": [
    "import aitom.io.file as io_file\n",
    "import aitom.image.vol.util as im_vol_util\n",
    "import os, sys, copy, uuid, shutil\n",
    "from aitom.bin.picking import picking\n",
    "# file path\n",
    "path = '/ldap_shared/home/v_zhenxi_zhu/data/aitom_demo_single_particle_tomogram.mrc'\n",
    "output_dir = './tmp/picking'\n",
    "if os.path.exists(output_dir):\n",
    "    shutil.rmtree(output_dir)\n",
    "os.makedirs(output_dir)\n",
    "# select sigma1 automatically \n",
    "mrc_header = io_file.read_mrc_header(path)\n",
    "voxel_spacing_in_nm = mrc_header['MRC']['xlen'] / mrc_header['MRC']['nx'] / 10\n",
    "sigma1 = max(int(7 / voxel_spacing_in_nm), 2)  # In general, 7 is optimal sigma1 val in nm according to the paper and sigma1 should at least be 2\n",
    "# or select it manually\n",
    "if True:\n",
    "    sigma1 = 5\n",
    "result = picking(path, s1=sigma1, s2=sigma1*1.1, t=3, find_maxima=False, partition_op=None, multiprocessing_process_num=10, pick_num=1000)\n",
    "print(\"DoG done, %d particles picked\" % len(result))\n",
    "\n",
    "# Save subvolumes of peaks for autoencoder input\n",
    "dump_subvols = True\n",
    "if dump_subvols: # use later for autoencoder\n",
    "    from aitom.classify.deep.unsupervised.autoencoder.autoencoder_util import peaks_to_subvolumes\n",
    "    subvols_loc = os.path.join(output_dir,\"demo_single_particle_subvolumes.pickle\")\n",
    "    a = io_file.read_mrc_data(path)\n",
    "    d = peaks_to_subvolumes(im_vol_util.cub_img(a)['vt'], result, 32)\n",
    "    io_file.pickle_dump(d, subvols_loc)\n",
    "    print(\"Save subvolumes .pickle file to:\", subvols_loc)\n"
   ]
  },
  {
   "cell_type": "markdown",
   "metadata": {},
   "source": [
    "# 1.2 Visualization of particle picking result"
   ]
  },
  {
   "cell_type": "code",
   "execution_count": null,
   "metadata": {
    "scrolled": false
   },
   "outputs": [],
   "source": [
    "from aitom.filter.gaussian import smooth\n",
    "import matplotlib.pyplot as plt\n",
    "import numpy as np\n",
    "\n",
    "# d = {v_siz:(32,32,32), vs:{uuid0:{center, v, id}, uuid1:{center, v, id} ... }}\n",
    "import aitom.io.file as io_file\n",
    "subvols_loc = './tmp/picking/demo_single_particle_subvolumes.pickle'\n",
    "d = io_file.pickle_load(subvols_loc)\n",
    "path = '/ldap_shared/home/v_zhenxi_zhu/data/aitom_demo_single_particle_tomogram.mrc'\n",
    "a = io_file.read_mrc_data(path)\n",
    "\n",
    "centers = []\n",
    "uuids = []\n",
    "# for v in d['vs'].values():\n",
    "for k,v in d['vs'].items():\n",
    "    if v['v'] is not None:\n",
    "        centers.append(v['center'])\n",
    "        uuids.append(k)\n",
    "\n",
    "# denoise\n",
    "if True:\n",
    "    a_smooth = smooth(a,2)\n",
    "else:\n",
    "    a_smooth = a\n",
    "\n",
    "# select radius of circles and slice number to visualize\n",
    "R ,slice_num = 10,40  \n",
    "\n",
    "centers = np.array(centers)\n",
    "\n",
    "slice_centers = centers[(centers[:,2]-slice_num)**2<R**2]\n",
    "img = a_smooth[:,:,slice_num]\n",
    "plt.rcParams['figure.figsize'] = (15.0, 12.0)\n",
    "fig = plt.figure()\n",
    "ax = fig.add_subplot(111)\n",
    "plt.axis('off')\n",
    "for center_num in range(len(slice_centers)):\n",
    "    y, x = slice_centers[center_num][0:2]\n",
    "    r = np.sqrt(R**2 - (slice_centers[center_num][2]-slice_num)**2)\n",
    "    circle = plt.Circle((x, y), r, color='b', fill=False)\n",
    "    plt.gcf().gca().add_artist(circle)\n",
    "ax_u = ax.imshow(img, cmap = 'gray')\n",
    "print('Visualization of the whole tomogram:')\n"
   ]
  },
  {
   "cell_type": "code",
   "execution_count": null,
   "metadata": {},
   "outputs": [],
   "source": [
    "print('Visualization of the subtomogram:')\n",
    "subvol_num = 113\n",
    "y, x, z = centers[subvol_num]\n",
    "img = a_smooth[:,:,z]\n",
    "plt.rcParams['figure.figsize'] = (10.0, 8.0)\n",
    "fig = plt.figure()\n",
    "ax = fig.add_subplot(111)\n",
    "circle = plt.Circle((x, y), R, color='b', fill=False)\n",
    "plt.gcf().gca().add_artist(circle)\n",
    "plt.axis('off')\n",
    "print('%d of %d, uuid = %s' %(subvol_num,len(centers),uuids[subvol_num]))\n",
    "ax_u = ax.imshow(img, cmap = 'gray')"
   ]
  },
  {
   "cell_type": "markdown",
   "metadata": {},
   "source": [
    "# 1.3 Manual selection"
   ]
  },
  {
   "cell_type": "code",
   "execution_count": null,
   "metadata": {},
   "outputs": [],
   "source": [
    "# (Optional) manual remove particles\n",
    "remove_particles = [0,4,9,11,18,24,26,30,34,35,38,53,66,78,96,99,111,112,118,123,124]\n",
    "if True:\n",
    "    particles_num = 100  # the number of selected particles\n",
    "else:\n",
    "    particles_num = len(centers) - len(remove_particles)  # select all\n",
    "import aitom.io.file as AIF\n",
    "result = {}\n",
    "result['v_siz'] = d['v_siz']\n",
    "result['vs'] = {}\n",
    "remove_particles = np.array(remove_particles)\n",
    "# d = {v_siz:(32,32,32), vs:{uuid0:{center, v, id}, uuid1:{center, v, id} ... }}\n",
    "\n",
    "for i in range(len(centers)):\n",
    "    if i in remove_particles:\n",
    "        continue\n",
    "    uuid_i = uuids[i]\n",
    "    result['vs'][uuid_i] = d['vs'][uuid_i]\n",
    "    if len(result['vs']) >= particles_num:\n",
    "        break\n",
    "assert len(result['vs']) == particles_num\n",
    "subvols_loc = './tmp/picking/selected_demo_single_particle_subvolumes.pickle'\n",
    "AIF.pickle_dump(result, subvols_loc)\n",
    "print(\"Save subvolumes .pickle file to:\", subvols_loc)\n",
    "    "
   ]
  },
  {
   "cell_type": "markdown",
   "metadata": {},
   "source": [
    "# 2.1 Autoencoder (single particle)"
   ]
  },
  {
   "cell_type": "code",
   "execution_count": null,
   "metadata": {},
   "outputs": [],
   "source": [
    "import os,shutil\n",
    "os.environ[\"TF_CPP_MIN_LOG_LEVEL\"] = \"2\"\n",
    "subvols_loc = './tmp/picking/selected_demo_single_particle_subvolumes.pickle'\n",
    "output_dir = './tmp/autoencoder_single_particle'\n",
    "if os.path.exists(output_dir):\n",
    "    shutil.rmtree(output_dir)\n",
    "os.makedirs(output_dir)\n",
    "\n",
    "import aitom.classify.deep.unsupervised.autoencoder.autoencoder as AE\n",
    "import time\n",
    "s_time = time.time()\n",
    "\n",
    "out_dir = output_dir\n",
    "single_particle_param = [subvols_loc, 'None', \"False\", 1]  # number of clusters = 1\n",
    "\n",
    "parameters_demo = single_particle_param # choose one of the above \n",
    "import aitom.io.file as AIF\n",
    "d = AIF.pickle_load(parameters_demo[0]) # pickle data file of CECT small subvolumes\n",
    "\n",
    "img_org_file = parameters_demo[1]#A tomogram file in .rec format, which can be None when pose normalization is not required\n",
    "pose = eval(parameters_demo[2])#Whether the optional pose normalization step should be applied  True or False\n",
    "clus_num = int(parameters_demo[3])# The number of clusters\n",
    "\n",
    "AE.encoder_simple_conv_test(d=d, pose=pose, img_org_file=img_org_file, out_dir=out_dir, clus_num=clus_num)\n",
    "AE.kmeans_centers_plot(AE.op_join(out_dir, 'clus-center'))\n"
   ]
  },
  {
   "cell_type": "markdown",
   "metadata": {},
   "source": [
    "## Visualization of cluster centers"
   ]
  },
  {
   "cell_type": "code",
   "execution_count": null,
   "metadata": {},
   "outputs": [],
   "source": [
    "from matplotlib.image import imread\n",
    "fig_dir = os.path.join(out_dir,'clus-center/fig')\n",
    "for filename in os.listdir(fig_dir):\n",
    "    img = imread(os.path.join(fig_dir,filename))\n",
    "    fig = plt.figure()\n",
    "    ax = fig.add_subplot(111)\n",
    "    plt.axis('off')\n",
    "    ax_u = ax.imshow(img, cmap = 'gray')\n"
   ]
  },
  {
   "cell_type": "markdown",
   "metadata": {},
   "source": [
    "# 2.2 Autoencoder (multi particles)"
   ]
  },
  {
   "cell_type": "code",
   "execution_count": null,
   "metadata": {},
   "outputs": [],
   "source": [
    "import pickle,os,shutil,uuid\n",
    "import aitom.io.file as AIF\n",
    "import numpy as N\n",
    "pickle_path = '/ldap_shared/home/v_zhenxi_zhu/classification_and_averaging/aitom_demo_subtomograms.pickle'  # demo subtomograms\n",
    "subvols_loc = './tmp/picking/selected_demo_single_particle_subvolumes.pickle'\n",
    "pickle_data = AIF.pickle_load(pickle_path)\n",
    "d = AIF.pickle_load(subvols_loc)\n",
    "subvols = []\n",
    "for v in d['vs'].values():\n",
    "    if v['v'] is not None:\n",
    "        subvols.append(v['v'])\n",
    "# subtom = pickle_data['5T2C_data'] + pickle_data['1KP8_data'] + subvols[:100]\n",
    "subtom = pickle_data['1KP8_data'] + pickle_data['1KP8_data']\n",
    "print('Total subtomograms: ',len(subtom))\n",
    "subvols_loc = './tmp/picking/subvolumes.pickle'\n",
    "d = {}\n",
    "d['v_siz'] = N.array([32,32,32])\n",
    "d['vs'] = {}\n",
    "labels = {}\n",
    "for i in range(len(subtom)):\n",
    "    uuid_i = str(uuid.uuid4())\n",
    "    d['vs'][uuid_i] = {}\n",
    "    d['vs'][uuid_i]['center'] = None\n",
    "    d['vs'][uuid_i]['id'] = uuid_i\n",
    "    d['vs'][uuid_i]['v'] = subtom[i]\n",
    "    d['vs'][uuid_i]['label'] = int(i/100)\n",
    "\n",
    "AIF.pickle_dump(d, subvols_loc)\n",
    "print(\"Save subvolumes .pickle file to:\", subvols_loc)"
   ]
  },
  {
   "cell_type": "code",
   "execution_count": null,
   "metadata": {},
   "outputs": [],
   "source": [
    "import os\n",
    "os.environ[\"TF_CPP_MIN_LOG_LEVEL\"] = \"2\"\n",
    "subvols_loc = './tmp/picking/subvolumes.pickle'\n",
    "output_dir = './tmp/autoencoder_multi_particles'\n",
    "if os.path.exists(output_dir):\n",
    "    shutil.rmtree(output_dir)\n",
    "os.makedirs(output_dir)\n",
    "\n",
    "import aitom.classify.deep.unsupervised.autoencoder.autoencoder as AE\n",
    "multi_particle_param = [subvols_loc, 'None', \"False\", 2]  # number of clusters\n",
    "parameters_demo = multi_particle_param\n",
    "\n",
    "import aitom.io.file as AIF\n",
    "d = AIF.pickle_load(parameters_demo[0]) # pickle data file of CECT small subvolumes\n",
    "img_org_file = parameters_demo[1]#A tomogram file in .rec format, which can be None when pose normalization is not required\n",
    "pose = eval(parameters_demo[2])#Whether the optional pose normalization step should be applied  True or False\n",
    "clus_num = int(parameters_demo[3])# The number of clusters\n",
    "out_dir = output_dir\n",
    "\n",
    "AE.encoder_simple_conv_test(d=d, pose=pose, img_org_file=img_org_file, out_dir=out_dir, clus_num=clus_num)\n",
    "AE.kmeans_centers_plot(AE.op_join(out_dir, 'clus-center'))\n"
   ]
  },
  {
   "cell_type": "markdown",
   "metadata": {},
   "source": [
    "## Visualization of cluster centers"
   ]
  },
  {
   "cell_type": "code",
   "execution_count": null,
   "metadata": {},
   "outputs": [],
   "source": [
    "from matplotlib.image import imread\n",
    "\n",
    "import os\n",
    "import matplotlib.pyplot as plt\n",
    "out_dir = './tmp/autoencoder_multi_particles'\n",
    "\n",
    "fig_dir = os.path.join(out_dir,'clus-center/fig')\n",
    "for filename in os.listdir(fig_dir):\n",
    "    img = imread(os.path.join(fig_dir,filename))\n",
    "    fig = plt.figure()\n",
    "    ax = fig.add_subplot(111)\n",
    "    plt.axis('off')\n",
    "    ax_u = ax.imshow(img, cmap = 'gray')"
   ]
  },
  {
   "cell_type": "code",
   "execution_count": null,
   "metadata": {},
   "outputs": [],
   "source": []
  }
 ],
 "metadata": {
  "kernelspec": {
   "display_name": "autoencoder",
   "language": "python",
   "name": "autoencoder"
  },
  "language_info": {
   "codemirror_mode": {
    "name": "ipython",
    "version": 3
   },
   "file_extension": ".py",
   "mimetype": "text/x-python",
   "name": "python",
   "nbconvert_exporter": "python",
   "pygments_lexer": "ipython3",
   "version": "3.5.6"
  }
 },
 "nbformat": 4,
 "nbformat_minor": 2
}
